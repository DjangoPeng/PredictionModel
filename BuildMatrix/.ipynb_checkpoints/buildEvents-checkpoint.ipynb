{
 "cells": [
  {
   "cell_type": "code",
   "execution_count": 9,
   "metadata": {
    "collapsed": false
   },
   "outputs": [],
   "source": [
    "import psycopg2\n",
    "import codecs\n",
    "\n",
    "conn = psycopg2.connect(\"dbname=mimic user=mimic\")\n",
    "cur = conn.cursor()\n",
    "\n",
    "f = codecs.open(\"allevents_o.txt\",\"r\",\"utf-8\")\n",
    "\n",
    "events = []\n",
    "id = 1\n",
    "\n",
    "for event in f:\n",
    "    cur.execute(\"INSERT INTO selEvents (id_event, event) VALUES(%s,%s);\",(id,str(event).strip()))\n",
    "    id += 1\n",
    "\n",
    "conn.commit()\n",
    "cur.close()\n",
    "conn.close()\n"
   ]
  },
  {
   "cell_type": "code",
   "execution_count": null,
   "metadata": {
    "collapsed": true
   },
   "outputs": [],
   "source": []
  }
 ],
 "metadata": {
  "kernelspec": {
   "display_name": "Python 2",
   "language": "python",
   "name": "python2"
  },
  "language_info": {
   "codemirror_mode": {
    "name": "ipython",
    "version": 2
   },
   "file_extension": ".py",
   "mimetype": "text/x-python",
   "name": "python",
   "nbconvert_exporter": "python",
   "pygments_lexer": "ipython2",
   "version": "2.7.11"
  }
 },
 "nbformat": 4,
 "nbformat_minor": 0
}
